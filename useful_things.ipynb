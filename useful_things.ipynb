{
 "cells": [
  {
   "cell_type": "code",
   "execution_count": null,
   "metadata": {},
   "outputs": [],
   "source": [
    "assert False, f'DONT RUN ALL, RUN ONLY THE SINGLE CELLS'"
   ]
  },
  {
   "cell_type": "code",
   "execution_count": null,
   "metadata": {},
   "outputs": [],
   "source": [
    "# testing loading frames from a real video\n",
    "import numpy as np\n",
    "import cv2 as cv \n",
    "\n",
    "\n",
    "#load the video\n",
    "cap = cv.VideoCapture('data/real_road.mp4')\n",
    "\n",
    "cv.namedWindow('frame', cv.WINDOW_NORMAL)\n",
    "\n",
    "#show the frames one at a time\n",
    "while(cap.isOpened()):\n",
    "    ret, frame = cap.read()\n",
    "\n",
    "    if ret:\n",
    "        #1280x720 rgb\n",
    "\n",
    "        frame = frame[-360:-50, 200:1080,:]\n",
    "        frame = cv.resize(frame, (640, 480))\n",
    "        #flip the frame horizontally\n",
    "        # frame = cv.flip(frame, 1)\n",
    "        cv.imshow('frame', frame)\n",
    "        if cv.waitKey(10) & 0xFF == ord('q'):\n",
    "            break\n",
    "    else:\n",
    "        break\n",
    "\n",
    "\n",
    "\n",
    "\n",
    "cv.destroyAllWindows()"
   ]
  },
  {
   "cell_type": "code",
   "execution_count": null,
   "metadata": {},
   "outputs": [],
   "source": [
    "# testing eroding the lines in the map\n",
    "import numpy as np\n",
    "import cv2 as cv\n",
    "\n",
    "img = cv.imread('2021_Small.png')\n",
    "img = cv.erode(img, None, iterations=2)\n",
    "cv.imwrite('2021_Small_eroded.png', img)"
   ]
  },
  {
   "cell_type": "code",
   "execution_count": 4,
   "metadata": {},
   "outputs": [
    {
     "name": "stdout",
     "output_type": "stream",
     "text": [
      "[5.02824061 5.75261226]\n"
     ]
    }
   ],
   "source": [
    "# GET POSITION BY CLICKING ON THE MAP\n",
    "# then save it in the variable event_points.npy, aleady in R coord\n",
    "\n",
    "import numpy as np\n",
    "import cv2 as cv\n",
    "import os\n",
    "from Simulator.src.helper_functions import *\n",
    "\n",
    "wind_name = 'Get position'\n",
    "event_points = []\n",
    "# file = 'data/2021_VerySmall.png'\n",
    "file = 'Simulator/src/models_pkg/track/materials/textures/test_VerySmall.png'\n",
    "\n",
    "def mouse_callback(event,x,y,flags,param):\n",
    "    if event == cv.EVENT_LBUTTONDBLCLK:\n",
    "        # cv.circle(img, (x,y), 50, (0,200,0), 10)\n",
    "        p_pix = np.array([x,y])\n",
    "        p = pix2mR(p_pix)\n",
    "        print(p)\n",
    "        event_points.append(p)\n",
    "        cv.circle(img, mR2pix(p), 50, (200,0,200), 10)\n",
    "        cv.circle(img, mR2pix(p), 3, (200,0,200), -1)\n",
    "        cv.putText(img, str(p), mR2pix(p), cv.FONT_HERSHEY_SIMPLEX, 1, (200,100,200), 2)\n",
    "\n",
    "img = cv.imread(file)\n",
    "cv.namedWindow(wind_name, cv.WINDOW_NORMAL)\n",
    "cv.imshow(wind_name, img)\n",
    "\n",
    "cv.setMouseCallback(wind_name, mouse_callback)\n",
    "\n",
    "while True:\n",
    "    cv.imshow(wind_name, img)\n",
    "    key = cv.waitKey(1) \n",
    "    if key == 27: #ESC\n",
    "        print('Exiting...')\n",
    "        break\n",
    "\n",
    "\n",
    "cv.destroyAllWindows()"
   ]
  },
  {
   "cell_type": "code",
   "execution_count": 2,
   "metadata": {},
   "outputs": [
    {
     "name": "stderr",
     "output_type": "stream",
     "text": [
      "libpng warning: iCCP: known incorrect sRGB profile\n",
      "libpng warning: iCCP: known incorrect sRGB profile\n"
     ]
    },
    {
     "name": "stdout",
     "output_type": "stream",
     "text": [
      "very small resolution: (3541, 3468, 3)\n",
      "medium resolution: (14164, 13871, 3)\n",
      "x ratio = 4.00\n",
      "y ratio = 4.00\n",
      "done\n",
      "saving images\n"
     ]
    },
    {
     "data": {
      "text/plain": [
       "True"
      ]
     },
     "execution_count": 2,
     "metadata": {},
     "output_type": "execute_result"
    }
   ],
   "source": [
    "import numpy as np\n",
    "import cv2 as cv\n",
    "import os\n",
    "from Simulator.src.helper_functions import *\n",
    "\n",
    "very_small = cv.imread('Simulator/src/models_pkg/track/materials/textures/2021_VerySmall.png')\n",
    "medium = cv.imread('Simulator/src/models_pkg/track/materials/textures/2021_Medium.png')\n",
    "\n",
    "cv.namedWindow('very_small', cv.WINDOW_NORMAL)\n",
    "cv.resizeWindow('very_small', 1000,1000)\n",
    "cv.namedWindow('medium', cv.WINDOW_NORMAL)\n",
    "cv.resizeWindow('medium', 1000,1000)\n",
    "\n",
    "# cv.imshow('very_small', very_small)\n",
    "# cv.imshow('medium', medium)\n",
    "\n",
    "print(f'very small resolution: {very_small.shape}')\n",
    "print(f'medium resolution: {medium.shape}')\n",
    "\n",
    "x_vs = very_small.shape[0]\n",
    "y_vs = very_small.shape[1]\n",
    "\n",
    "x_m = medium.shape[0]\n",
    "y_m = medium.shape[1]\n",
    "\n",
    "print(f'x ratio = {1.0*x_m/x_vs:.2f}')\n",
    "print(f'y ratio = {1.0*y_m/y_vs:.2f}')\n",
    "\n",
    "#make image full black\n",
    "vs = np.zeros_like(very_small)\n",
    "m = np.zeros_like(medium)\n",
    "\n",
    "# vs = very_small\n",
    "# m = medium\n",
    "\n",
    "#load internal and external lanes\n",
    "ext = np.load('sparcs/sparcs_path_ext_precise.npy').T\n",
    "int = np.load('sparcs/sparcs_path_int_precise.npy').T\n",
    "\n",
    "R = 2\n",
    "color = (255,255,255)\n",
    "F = 4\n",
    "OFFSET = np.array([2.5,2.5])\n",
    "\n",
    "ext = ext + OFFSET\n",
    "int = int + OFFSET\n",
    "\n",
    "for p in ext:\n",
    "    vs = cv.circle(vs, mR2pix(p, use_medium=False), R, color, -1)\n",
    "    m = cv.circle(m, mR2pix(p, use_medium=True), 4*R, color, -1)\n",
    "\n",
    "for p in int:\n",
    "    vs = cv.circle(vs, mR2pix(p, use_medium=False), R, color, -1)\n",
    "    m = cv.circle(m, mR2pix(p, use_medium=True), 4*R, color, -1)\n",
    "\n",
    "\n",
    "cv.imshow('very_small', vs)\n",
    "cv.imshow('medium', m)\n",
    "print('done')\n",
    "cv.waitKey(0)\n",
    "\n",
    "cv.destroyAllWindows()\n",
    "\n",
    "print('saving images')\n",
    "cv.imwrite('Simulator/src/models_pkg/track/materials/textures/test_VerySmall.png', vs)\n",
    "cv.imwrite('Simulator/src/models_pkg/track/materials/textures/test_Medium.png', m)"
   ]
  },
  {
   "cell_type": "code",
   "execution_count": null,
   "metadata": {},
   "outputs": [],
   "source": [
    "# Generate image collage for presentation\n",
    "import numpy as np\n",
    "import matplotlib.pyplot as plt\n",
    "import os\n",
    "import cv2 as cv \n",
    "\n",
    "def plot_nchw_data(data, h_num, v_num, title, size=(10, 10)):\n",
    "    fig, axs = plt.subplots(h_num, v_num, figsize=size)\n",
    "    # shape = data.shape\n",
    "    # data = data.reshape(shape[0]*shape[1], shape[2], shape[3])\n",
    "    for idx, ax in enumerate(axs.flatten()):\n",
    "        ax.set_xticks([])\n",
    "        ax.set_yticks([])\n",
    "        if idx < len(data):\n",
    "            ax.imshow(data[idx,:,:], cmap='gray')\n",
    "    if title is not None:\n",
    "        plt.suptitle(title)\n",
    "    #plt.tight_layout(rect=[0, 0, 1, 0.97], h_pad=0, w_pad=0)\n",
    "    plt.show()\n",
    "    return fig\n",
    "\n",
    "folder = os.path.join('random_stuff', 'imgs_presentation')\n",
    "\n",
    "#get all the images inside the folder\n",
    "imgs = []\n",
    "for file in os.listdir(folder):\n",
    "    if file.endswith('.png') and file.startswith('img'):\n",
    "        img = cv.imread(os.path.join(folder, file))\n",
    "        #convert to grayscale\n",
    "        img = cv.cvtColor(img, cv.COLOR_BGR2GRAY)\n",
    "        cv.imshow('img', img)\n",
    "        if cv.waitKey(1) == 27:\n",
    "            break\n",
    "        imgs.append(img)\n",
    "cv.destroyAllWindows()\n",
    "\n",
    "data = np.zeros((len(imgs),512,512), dtype=np.uint8)\n",
    "for i in range(len(imgs)):\n",
    "    data[i,:,:] = imgs[i]\n",
    "\n",
    "figure = plot_nchw_data(data, 8, 12, None, size=(18,12))\n",
    "\n",
    "\n",
    "\n",
    "\n"
   ]
  }
 ],
 "metadata": {
  "kernelspec": {
   "display_name": "Python 3.8.10 ('dlenv')",
   "language": "python",
   "name": "python3"
  },
  "language_info": {
   "codemirror_mode": {
    "name": "ipython",
    "version": 3
   },
   "file_extension": ".py",
   "mimetype": "text/x-python",
   "name": "python",
   "nbconvert_exporter": "python",
   "pygments_lexer": "ipython3",
   "version": "3.8.10"
  },
  "orig_nbformat": 4,
  "vscode": {
   "interpreter": {
    "hash": "5ff087476d859467207b75b86d772837aefc8c57842a4549d55b8593c8b8ca04"
   }
  }
 },
 "nbformat": 4,
 "nbformat_minor": 2
}
