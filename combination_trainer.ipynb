{
 "cells": [
  {
   "cell_type": "code",
   "execution_count": 1,
   "metadata": {},
   "outputs": [
    {
     "name": "stdout",
     "output_type": "stream",
     "text": [
      "cuda\n"
     ]
    }
   ],
   "source": [
    "#clear all variables\n",
    "%reset -f\n",
    "\n",
    "from class_and_functions_for_combinations import *\n",
    "\n",
    "device = torch.device(\"cuda\" if torch.cuda.is_available() else \"cpu\")\n",
    "print(device)\n",
    "dir_names = ['tmp', 'tmp/dss', 'tmp/evals', 'tmp/hes', 'tmp/models', 'tmp/real_dss/', 'tmp/training_combinations/']\n",
    "for dir_name in dir_names:\n",
    "    if not os.path.exists(dir_name):\n",
    "        print('creating directory: ', dir_name)\n",
    "        os.makedirs(dir_name)\n",
    "# device = torch.device(\"cpu\")"
   ]
  },
  {
   "cell_type": "code",
   "execution_count": 2,
   "metadata": {},
   "outputs": [],
   "source": [
    "# #############\n",
    "# architecture_vars = ['a']\n",
    "# droput_vars = [0.3]\n",
    "\n",
    "# steer_noise_level_vars = [0, 3, 6, 9, 12, 14, 16]\n",
    "# he_distance_vars = [0.4, 0.6, 0.8]\n",
    "\n",
    "# canny1_vars = [100]\n",
    "# canny2_vars = [200]\n",
    "# blur_vars = [3]\n",
    "# img_noise_vars = [80]\n",
    "# keep_bottom_vars = [2/3, 0.9]\n",
    "# ds_length_vars = [5000, 1000]\n",
    "# img_size_vars = [32]\n",
    "\n",
    "# batch_size_vars = [65536]\n",
    "# lr_vars = [0.3, 0.03, 0.003]\n",
    "# epochs_vars = [100, 300, 900]\n",
    "# L1_lambda_vars = [1e-3, 1e-4]\n",
    "# L2_lambda_vars = [1e-1, 1e-2]\n",
    "# weight_decay_vars = [9e-5, 9e-6]"
   ]
  },
  {
   "cell_type": "code",
   "execution_count": 3,
   "metadata": {},
   "outputs": [],
   "source": [
    "#############\n",
    "architecture_vars = ['a']\n",
    "droput_vars = [0.3]\n",
    "\n",
    "steer_noise_level_vars = [10]#[0, 2, 4, 6, 8, 10, 12, 14, 16, 18, 20]#[0,4,8,10,12,16,20]#[0,2, 4,6, 8, 10, 12, 14, 16, 18, 20]\n",
    "he_distance_vars = [.5]#[.4,.5,.6,.7,.8,.9]#[.4,.6,.8]#[.3,.4,.5,.55,.6,.7,.8,.9]\n",
    "\n",
    "canny1_vars = [100, 0]\n",
    "canny2_vars = [200, 0]\n",
    "blur_vars = [3]\n",
    "img_noise_vars = [80]#[1, 30, 60, 90, 120, 150, 180] #[80] #[1, 30, 60, 90, 120, 150, 180]\n",
    "keep_bottom_vars = [.8]#[.4,.5,.6,.7,.8,.9]#[.8]#[.4,.5,.6,.7,.8,.9]\n",
    "ds_length_vars = [10000]\n",
    "img_size_vars = [32]\n",
    "\n",
    "batch_size_vars = [65536]\n",
    "lr_vars = [3e-3]#[1e-1, 1e-2, 1e-3, 1e-4, 1e-5]#[0.003]\n",
    "epochs_vars = [100]\n",
    "L1_lambda_vars = [1e-4]\n",
    "L2_lambda_vars = [1e-2]\n",
    "weight_decay_vars = [9e-5] #5e-2"
   ]
  },
  {
   "cell_type": "code",
   "execution_count": 4,
   "metadata": {},
   "outputs": [
    {
     "name": "stdout",
     "output_type": "stream",
     "text": [
      "total dataset combinations: 2\n",
      "number of unique names: 2, number of names: 2\n"
     ]
    }
   ],
   "source": [
    "#generate datasets names\n",
    "#names and parameters\n",
    "datasets = []\n",
    "for steer_noise_level in steer_noise_level_vars:\n",
    "    for he_distance in he_distance_vars:\n",
    "        for canny1, canny2 in zip(canny1_vars, canny2_vars):\n",
    "            for blur in blur_vars:\n",
    "                for img_noise in img_noise_vars:\n",
    "                    for keep_bottom in keep_bottom_vars:\n",
    "                        for img_size in img_size_vars:\n",
    "                            for ds_length in ds_length_vars:\n",
    "                                name = f'ds_sn{steer_noise_level:.0f}_he{100*he_distance:.0f}_canny{canny1}_{canny2}_blur{blur:.0f}_noise{img_noise:.0f}_keep{100*keep_bottom:.0f}_size{img_size:.0f}_length{ds_length:.0f}'\n",
    "                                params = {'name':name, 'steer_noise_level': steer_noise_level, 'he_distance': he_distance, 'canny1': canny1, 'canny2': canny2, 'blur': blur, 'img_noise': img_noise, 'keep_bottom': keep_bottom, 'img_size': img_size, 'ds_length': ds_length}\n",
    "                                datasets.append(params)\n",
    "\n",
    "print(f'total dataset combinations: {len(datasets)}')\n",
    "\n",
    "all_names = []\n",
    "for ds in datasets:\n",
    "    all_names.append(ds['name'])\n",
    "#check if there are duplicates\n",
    "print(f'number of unique names: {len(set(all_names))}, number of names: {len(all_names)}')"
   ]
  },
  {
   "cell_type": "code",
   "execution_count": 5,
   "metadata": {},
   "outputs": [
    {
     "name": "stderr",
     "output_type": "stream",
     "text": [
      "100%|██████████| 2/2 [00:02<00:00,  1.49s/it]\n"
     ]
    }
   ],
   "source": [
    "# PREPARE DATASETS\n",
    "for ds in tqdm(datasets):\n",
    "    prepare_ds(ds)"
   ]
  },
  {
   "cell_type": "code",
   "execution_count": 6,
   "metadata": {},
   "outputs": [],
   "source": [
    "# # ANALYZE DATASETS\n",
    "# for ds in tqdm(datasets):\n",
    "#     analyze_ds(ds)"
   ]
  },
  {
   "cell_type": "code",
   "execution_count": 7,
   "metadata": {},
   "outputs": [
    {
     "name": "stdout",
     "output_type": "stream",
     "text": [
      "base network already exists\n"
     ]
    }
   ],
   "source": [
    "#create starting network\n",
    "epochs = 500\n",
    "\n",
    "assert len(architecture_vars) == len(img_size_vars) == 1, 'only one architecture and one img_noise is allowed'\n",
    "for a,size in zip(architecture_vars, img_size_vars):\n",
    "    net_name = f'base_{a}_{size}'\n",
    "    if os.path.exists(f'tmp/models/{net_name}.pt'):\n",
    "        print('base network already exists')\n",
    "        break\n",
    "\n",
    "    all_imgs = []\n",
    "    all_hes = []\n",
    "    for ds_params in datasets:\n",
    "        ds_name = ds_params['name']\n",
    "        npz = my_load(f'tmp/dss/{ds_name}.npz', allow_pickle=True)\n",
    "        imgs, hes = npz['imgs'], npz['hes']\n",
    "        for img, he in zip(imgs, hes):\n",
    "            all_imgs.append(img)\n",
    "            all_hes.append(he)\n",
    "    all_imgs = np.array(all_imgs)\n",
    "    all_hes = np.array(all_hes)\n",
    "    big_ds_name = f'big_ds_{a}_{size}'\n",
    "    np.savez(f'tmp/dss/{big_ds_name}.npz', imgs=all_imgs, hes=all_hes, name=big_ds_name, img_size=size)\n",
    "    print(f'base network: {all_imgs.shape}, {all_hes.shape}')\n",
    "    ds = MyDataset(big_ds_name, device=device)\n",
    "        #create model\n",
    "    net = HEstimator()\n",
    "    net.apply(reset_weights)\n",
    "    net.to(device)\n",
    "\n",
    "    #create dataloader\n",
    "    train_size = int(0.8 * len(ds))\n",
    "    val_size = len(ds) - train_size\n",
    "    train_ds, val_ds = torch.utils.data.random_split(ds, [train_size, val_size])\n",
    "\n",
    "    train_dataloader = DataLoader(train_ds, batch_size=2*65536, shuffle=True)\n",
    "    val_dataloader = DataLoader(val_ds, batch_size=2*65536, shuffle=False)\n",
    "\n",
    "    optimizer = torch.optim.Adam(net.parameters(), lr=0.003, weight_decay=9e-5)\n",
    "    regr_loss_fn1 = nn.MSELoss() #before epochs/2\n",
    "    regr_loss_fn2 = nn.MSELoss() #after epochs/2 for finetuning\n",
    "\n",
    "    #train\n",
    "\n",
    "    best_val = np.inf\n",
    "    best_epoch = 0\n",
    "    best_model = None\n",
    "    losses = np.zeros((epochs, 2))\n",
    "    for epoch in tqdm(range(epochs)):\n",
    "        regr_loss_fn = regr_loss_fn1 if epoch < epochs//2 else regr_loss_fn2\n",
    "        he_loss = train_epoch(net, train_dataloader, regr_loss_fn, optimizer, 1e-4, 1e-2)\n",
    "        val_he_loss = val_epoch(net, val_dataloader, regr_loss_fn)\n",
    "        losses[epoch, 0] = he_loss\n",
    "        losses[epoch, 1] = val_he_loss\n",
    "        clear_output(wait=False)\n",
    "        if val_he_loss < best_val:\n",
    "            best_val = val_he_loss\n",
    "            best_epoch = epoch\n",
    "            best_model = deepcopy(net)\n",
    "            print('saved model')\n",
    "            # torch.save(net.state_dict(), f'tmp/models/{net_name}.pt')\n",
    "        print(f'he_loss {he_loss:.4f}, val_he_loss {val_he_loss:.4f}, best_val {best_val:.4f}, best_epoch {best_epoch}')\n",
    "\n",
    "    #save losses\n",
    "    # np.save(f'tmp/{name}_losses.npy', losses)\n",
    "    torch.save(best_model.state_dict(), f'tmp/models/{net_name}.pt')\n"
   ]
  },
  {
   "cell_type": "code",
   "execution_count": 8,
   "metadata": {},
   "outputs": [
    {
     "name": "stdout",
     "output_type": "stream",
     "text": [
      "number of unique names: 2, number of names: 2\n",
      "total training combinations: 2\n"
     ]
    }
   ],
   "source": [
    "#create training combinations\n",
    "trainings_combinations = []\n",
    "for ds in datasets:\n",
    "    for architecture in architecture_vars:\n",
    "        for batch_size in batch_size_vars:\n",
    "            for lr in lr_vars:\n",
    "                for epochs in epochs_vars:\n",
    "                    for L1_lambda in L1_lambda_vars:\n",
    "                        for L2_lambda in L2_lambda_vars:\n",
    "                            for weight_decay in weight_decay_vars:\n",
    "                                for dropout in droput_vars:\n",
    "                                    name = f'tr_{ds[\"name\"]}_arch{architecture}_bs{batch_size:.0f}_lr{lr*10**6:.0f}_ep{epochs:.0f}_L1{L1_lambda*10**6:.0f}_L2{L2_lambda*10**6:.0f}_wd{weight_decay*10**6:.0f}_dr{dropout*100:.0f}'\n",
    "                                    params = {'name':name, 'ds_name': ds['name'], 'architecture': architecture, 'batch_size': batch_size, 'lr': lr, 'epochs': epochs, 'L1_lambda': L1_lambda, 'L2_lambda': L2_lambda, 'weight_decay': weight_decay, 'dropout': dropout}\n",
    "                                    trainings_combinations.append(params)\n",
    "\n",
    "all_names = []\n",
    "for tr in trainings_combinations:\n",
    "    all_names.append(tr['name'])\n",
    "#check if there are duplicates\n",
    "print(f'number of unique names: {len(set(all_names))}, number of names: {len(all_names)}')\n",
    "\n",
    "print(f'total training combinations: {len(trainings_combinations)}')"
   ]
  },
  {
   "cell_type": "code",
   "execution_count": 9,
   "metadata": {},
   "outputs": [
    {
     "name": "stderr",
     "output_type": "stream",
     "text": [
      "100%|██████████| 2/2 [00:27<00:00, 13.83s/it]\n"
     ]
    }
   ],
   "source": [
    "#TRAINING \n",
    "for tr in tqdm(trainings_combinations):\n",
    "    train(tr, device)"
   ]
  },
  {
   "cell_type": "code",
   "execution_count": 10,
   "metadata": {},
   "outputs": [
    {
     "name": "stderr",
     "output_type": "stream",
     "text": [
      "100%|██████████| 2/2 [00:07<00:00,  3.81s/it]\n"
     ]
    }
   ],
   "source": [
    "# EVALUATION\n",
    "for tr in tqdm(trainings_combinations):\n",
    "    evaluate(tr, eval_datasets=REAL_EVALUATION_DATASETS, device=device, show_imgs=False)\n"
   ]
  },
  {
   "cell_type": "markdown",
   "metadata": {},
   "source": [
    "## Best MSEs"
   ]
  },
  {
   "cell_type": "code",
   "execution_count": 11,
   "metadata": {},
   "outputs": [
    {
     "name": "stderr",
     "output_type": "stream",
     "text": [
      "100%|██████████| 2/2 [00:00<00:00, 302.14it/s]\n"
     ]
    },
    {
     "data": {
      "image/png": "[encoded data removed]",
      "text/plain": [
       "<Figure size 1000x500 with 1 Axes>"
      ]
     },
     "metadata": {},
     "output_type": "display_data"
    },
    {
     "name": "stdout",
     "output_type": "stream",
     "text": [
      "best combination: {'name': 'tr_ds_sn10_he50_canny0_0_blur3_noise80_keep80_size32_length10000_archa_bs65536_lr3000_ep100_L1100_L210000_wd90_dr30', 'ds_name': 'ds_sn10_he50_canny0_0_blur3_noise80_keep80_size32_length10000', 'architecture': 'a', 'batch_size': 65536, 'lr': 0.003, 'epochs': 100, 'L1_lambda': 0.0001, 'L2_lambda': 0.01, 'weight_decay': 9e-05, 'dropout': 0.3}, best MSE: 0.0024688106592416527\n"
     ]
    }
   ],
   "source": [
    "#BEST result REAL_EVALUATION_DATASETS\n",
    "best_combination, best_MSE, all_MSE = get_best_result(trainings_combinations, eval_datasets=REAL_EVALUATION_DATASETS, device=device)\n",
    "\n",
    "#plot mses\n",
    "fig, ax = plt.subplots(figsize=(10, 5))\n",
    "# ax.scatter(np.arange(len(all_MSE)), all_MSE)\n",
    "ax.plot(np.arange(len(all_MSE)), all_MSE)\n",
    "ax.set_xlabel('dataset')\n",
    "ax.set_ylabel('MSE')\n",
    "#y limits\n",
    "# ax.set_ylim(0, 0.2)\n",
    "plt.show()\n",
    "\n",
    "print(f'best combination: {best_combination}, best MSE: {best_MSE}')\n"
   ]
  },
  {
   "cell_type": "code",
   "execution_count": 12,
   "metadata": {},
   "outputs": [
    {
     "name": "stderr",
     "output_type": "stream",
     "text": [
      "100%|██████████| 2/2 [00:00<00:00, 692.13it/s]\n"
     ]
    },
    {
     "data": {
      "image/png": "[encoded data removed]",
      "text/plain": [
       "<Figure size 1000x500 with 1 Axes>"
      ]
     },
     "metadata": {},
     "output_type": "display_data"
    },
    {
     "name": "stdout",
     "output_type": "stream",
     "text": [
      "best combination: {'name': 'tr_ds_sn10_he50_canny0_0_blur3_noise80_keep80_size32_length10000_archa_bs65536_lr3000_ep100_L1100_L210000_wd90_dr30', 'ds_name': 'ds_sn10_he50_canny0_0_blur3_noise80_keep80_size32_length10000', 'architecture': 'a', 'batch_size': 65536, 'lr': 0.003, 'epochs': 100, 'L1_lambda': 0.0001, 'L2_lambda': 0.01, 'weight_decay': 9e-05, 'dropout': 0.3}, best MSE: 0.0009020023456662278\n"
     ]
    }
   ],
   "source": [
    "#BEST result REAL_CLEAN_DATASETS\n",
    "best_combination, best_MSE, all_MSE = get_best_result(trainings_combinations, eval_datasets=REAL_CLEAN_DATASETS, device=device)\n",
    "\n",
    "#plot mses\n",
    "fig, ax = plt.subplots(figsize=(10, 5))\n",
    "# ax.scatter(np.arange(len(all_MSE)), all_MSE)\n",
    "ax.plot(np.arange(len(all_MSE)), all_MSE)\n",
    "ax.set_xlabel('dataset')\n",
    "ax.set_ylabel('MSE')\n",
    "#y limits\n",
    "# ax.set_ylim(0, 0.2)\n",
    "plt.show()\n",
    "\n",
    "print(f'best combination: {best_combination}, best MSE: {best_MSE}')\n"
   ]
  },
  {
   "cell_type": "code",
   "execution_count": 13,
   "metadata": {},
   "outputs": [
    {
     "name": "stderr",
     "output_type": "stream",
     "text": [
      "100%|██████████| 2/2 [00:00<00:00, 1129.32it/s]\n"
     ]
    },
    {
     "data": {
      "image/png": "[encoded data removed]",
      "text/plain": [
       "<Figure size 1000x500 with 1 Axes>"
      ]
     },
     "metadata": {},
     "output_type": "display_data"
    },
    {
     "name": "stdout",
     "output_type": "stream",
     "text": [
      "best combination: {'name': 'tr_ds_sn10_he50_canny0_0_blur3_noise80_keep80_size32_length10000_archa_bs65536_lr3000_ep100_L1100_L210000_wd90_dr30', 'ds_name': 'ds_sn10_he50_canny0_0_blur3_noise80_keep80_size32_length10000', 'architecture': 'a', 'batch_size': 65536, 'lr': 0.003, 'epochs': 100, 'L1_lambda': 0.0001, 'L2_lambda': 0.01, 'weight_decay': 9e-05, 'dropout': 0.3}, best MSE: 0.005080157848534027\n"
     ]
    }
   ],
   "source": [
    "#BEST result REAL_NOISY_DATASETS\n",
    "best_combination, best_MSE, all_MSE = get_best_result(trainings_combinations, eval_datasets=REAL_NOISY_DATASETS, device=device)\n",
    "\n",
    "#plot mses\n",
    "fig, ax = plt.subplots(figsize=(10, 5))\n",
    "# ax.scatter(np.arange(len(all_MSE)), all_MSE)\n",
    "ax.plot(np.arange(len(all_MSE)), all_MSE)\n",
    "ax.set_xlabel('dataset')\n",
    "ax.set_ylabel('MSE')\n",
    "#y limits\n",
    "# ax.set_ylim(0, 0.2)\n",
    "plt.show()\n",
    "\n",
    "print(f'best combination: {best_combination}, best MSE: {best_MSE}')"
   ]
  },
  {
   "cell_type": "markdown",
   "metadata": {},
   "source": [
    "best combination: {'name': 'tr_ds_sn5_he40_canny100_200_blur3_noise80_keep67_size32_length1000_archa_bs65536_lr30000_ep300_L1100_L210000_wd90_dr30', 'ds_name': 'ds_sn5_he40_canny100_200_blur3_noise80_keep67_size32_length1000', 'architecture': 'a', 'batch_size': 65536, 'lr': 0.03, 'epochs': 300, 'L1_lambda': 0.0001, 'L2_lambda': 0.01, 'weight_decay': 9e-05, 'dropout': 0.3}, best MSE: 0.036422715537554835"
   ]
  },
  {
   "cell_type": "markdown",
   "metadata": {},
   "source": [
    "## Single plots"
   ]
  },
  {
   "cell_type": "code",
   "execution_count": 14,
   "metadata": {},
   "outputs": [
    {
     "name": "stderr",
     "output_type": "stream",
     "text": [
      "100%|██████████| 2/2 [00:00<00:00, 70.55it/s]"
     ]
    },
    {
     "name": "stdout",
     "output_type": "stream",
     "text": [
      "Found 1 different values for steer_noise_level, min_num_vals=2, max_num_vals=2\n",
      "None\n"
     ]
    },
    {
     "name": "stderr",
     "output_type": "stream",
     "text": [
      "\n"
     ]
    }
   ],
   "source": [
    "#plot for steer_noise_level \n",
    "steer_noise_level_MSEs = get_MSEs_for('steer_noise_level', trainings_combinations, LIST_REAL_DATASETS)\n",
    "print(steer_noise_level_MSEs)"
   ]
  },
  {
   "cell_type": "code",
   "execution_count": 15,
   "metadata": {},
   "outputs": [
    {
     "name": "stderr",
     "output_type": "stream",
     "text": [
      "100%|██████████| 2/2 [00:00<00:00, 71.27it/s]"
     ]
    },
    {
     "name": "stdout",
     "output_type": "stream",
     "text": [
      "Found 1 different values for he_distance, min_num_vals=2, max_num_vals=2\n",
      "None\n"
     ]
    },
    {
     "name": "stderr",
     "output_type": "stream",
     "text": [
      "\n"
     ]
    }
   ],
   "source": [
    "#plot for he_distance\n",
    "he_distance_MSEs = get_MSEs_for('he_distance', trainings_combinations, LIST_REAL_DATASETS)\n",
    "print(he_distance_MSEs)"
   ]
  },
  {
   "cell_type": "code",
   "execution_count": 16,
   "metadata": {},
   "outputs": [
    {
     "name": "stderr",
     "output_type": "stream",
     "text": [
      "100%|██████████| 2/2 [00:00<00:00, 72.27it/s]"
     ]
    },
    {
     "name": "stdout",
     "output_type": "stream",
     "text": [
      "Found 1 different values for lr, min_num_vals=2, max_num_vals=2\n",
      "None\n"
     ]
    },
    {
     "name": "stderr",
     "output_type": "stream",
     "text": [
      "\n"
     ]
    }
   ],
   "source": [
    "#plot for lr\n",
    "lr_MSEs = get_MSEs_for('lr', trainings_combinations, LIST_REAL_DATASETS, log=True)\n",
    "print(lr_MSEs)"
   ]
  },
  {
   "cell_type": "code",
   "execution_count": 17,
   "metadata": {},
   "outputs": [
    {
     "name": "stderr",
     "output_type": "stream",
     "text": [
      "100%|██████████| 2/2 [00:00<00:00, 71.53it/s]"
     ]
    },
    {
     "name": "stdout",
     "output_type": "stream",
     "text": [
      "Found 1 different values for epochs, min_num_vals=2, max_num_vals=2\n",
      "None\n"
     ]
    },
    {
     "name": "stderr",
     "output_type": "stream",
     "text": [
      "\n"
     ]
    }
   ],
   "source": [
    "#plot for epochs\n",
    "epochs_MSEs = get_MSEs_for('epochs', trainings_combinations, LIST_REAL_DATASETS)\n",
    "print(epochs_MSEs)"
   ]
  },
  {
   "cell_type": "code",
   "execution_count": 18,
   "metadata": {},
   "outputs": [
    {
     "name": "stderr",
     "output_type": "stream",
     "text": [
      "100%|██████████| 2/2 [00:00<00:00, 71.44it/s]"
     ]
    },
    {
     "name": "stdout",
     "output_type": "stream",
     "text": [
      "Found 1 different values for img_noise, min_num_vals=2, max_num_vals=2\n",
      "None\n"
     ]
    },
    {
     "name": "stderr",
     "output_type": "stream",
     "text": [
      "\n"
     ]
    }
   ],
   "source": [
    "#plot for img_noise_vars\n",
    "img_noise_vars_MSEs = get_MSEs_for('img_noise', trainings_combinations, LIST_REAL_DATASETS)\n",
    "print(img_noise_vars_MSEs)"
   ]
  },
  {
   "cell_type": "code",
   "execution_count": 19,
   "metadata": {},
   "outputs": [
    {
     "name": "stderr",
     "output_type": "stream",
     "text": [
      "100%|██████████| 2/2 [00:00<00:00, 71.43it/s]"
     ]
    },
    {
     "name": "stdout",
     "output_type": "stream",
     "text": [
      "Found 1 different values for keep_bottom, min_num_vals=2, max_num_vals=2\n",
      "None\n"
     ]
    },
    {
     "name": "stderr",
     "output_type": "stream",
     "text": [
      "\n"
     ]
    }
   ],
   "source": [
    "#plot for keep_bottom\n",
    "keep_bottom_MSEs = get_MSEs_for('keep_bottom', trainings_combinations, LIST_REAL_DATASETS)\n",
    "print(keep_bottom_MSEs)"
   ]
  },
  {
   "cell_type": "markdown",
   "metadata": {},
   "source": [
    "## Double Plots"
   ]
  },
  {
   "cell_type": "code",
   "execution_count": 20,
   "metadata": {},
   "outputs": [
    {
     "name": "stderr",
     "output_type": "stream",
     "text": [
      "100%|██████████| 2/2 [00:00<00:00, 71.37it/s]"
     ]
    },
    {
     "name": "stdout",
     "output_type": "stream",
     "text": [
      "Found 1 different values for steer_noise_level\n",
      "Found 1 different values for he_distance\n",
      "Found 1 different values for steer_noise_level and he_distance\n"
     ]
    },
    {
     "name": "stderr",
     "output_type": "stream",
     "text": [
      "\n"
     ]
    }
   ],
   "source": [
    "#plot for steer_noise_level and he_distance\n",
    "%matplotlib widget\n",
    "steer_noise_level_he_distance_MSEs = get2D_MSEs_for('steer_noise_level', 'he_distance', trainings_combinations, eval_datasets=REAL_EVALUATION_DATASETS)"
   ]
  },
  {
   "cell_type": "code",
   "execution_count": 21,
   "metadata": {},
   "outputs": [
    {
     "name": "stderr",
     "output_type": "stream",
     "text": [
      "100%|██████████| 2/2 [00:00<00:00, 70.40it/s]"
     ]
    },
    {
     "name": "stdout",
     "output_type": "stream",
     "text": [
      "Found 1 different values for steer_noise_level\n",
      "Found 1 different values for img_noise\n",
      "Found 1 different values for steer_noise_level and img_noise\n"
     ]
    },
    {
     "name": "stderr",
     "output_type": "stream",
     "text": [
      "\n"
     ]
    }
   ],
   "source": [
    "#plot for steer_noise_level and img_noise_vars\n",
    "%matplotlib widget\n",
    "steer_noise_level_img_noise_vars_MSEs = get2D_MSEs_for('steer_noise_level', 'img_noise', trainings_combinations, eval_datasets=REAL_EVALUATION_DATASETS)"
   ]
  },
  {
   "cell_type": "code",
   "execution_count": 22,
   "metadata": {},
   "outputs": [
    {
     "name": "stderr",
     "output_type": "stream",
     "text": [
      "100%|██████████| 2/2 [00:00<00:00, 71.08it/s]"
     ]
    },
    {
     "name": "stdout",
     "output_type": "stream",
     "text": [
      "Found 1 different values for he_distance\n",
      "Found 1 different values for keep_bottom\n",
      "Found 1 different values for he_distance and keep_bottom\n"
     ]
    },
    {
     "name": "stderr",
     "output_type": "stream",
     "text": [
      "\n"
     ]
    }
   ],
   "source": [
    "#plot for he_distance and keep_bottom\n",
    "%matplotlib widget\n",
    "he_distance_keep_bottom_MSEs = get2D_MSEs_for('he_distance', 'keep_bottom', trainings_combinations, eval_datasets=REAL_EVALUATION_DATASETS)"
   ]
  },
  {
   "cell_type": "code",
   "execution_count": 23,
   "metadata": {},
   "outputs": [
    {
     "name": "stdout",
     "output_type": "stream",
     "text": [
      "tmp/dss/ds_10.npz\n",
      "tmp/hes/hes_10_50.npz\n",
      "tmp/dss/ds_sn10_he50_canny0_0_blur3_noise80_keep80_size32_length10000.npz\n",
      "tmp/training_combinations/tr_ds_sn10_he50_canny0_0_blur3_noise80_keep80_size32_length10000_archa_bs65536_lr3000_ep100_L1100_L210000_wd90_dr30.npz\n",
      "tr_ds_sn10_he50_canny100_200_blur3_noise80_keep80_size32_length10000_archa_bs65536_lr3000_ep100_L1100_L210000_wd90_dr30\n",
      "tmp/training_combinations/tr_ds_sn10_he50_canny100_200_blur3_noise80_keep80_size32_length10000_archa_bs65536_lr3000_ep100_L1100_L210000_wd90_dr30.npz\n",
      "tmp/dss/ds_sn10_he50_canny100_200_blur3_noise80_keep80_size32_length10000.npz\n",
      "tr_ds_sn10_he50_canny0_0_blur3_noise80_keep80_size32_length10000_archa_bs65536_lr3000_ep100_L1100_L210000_wd90_dr30\n",
      "tmp/real_dss/acw0.npz\n",
      "tmp/hes/acw0_50.npz\n",
      "tmp/real_dss/acw0_preproc_imgs_32_0_0_3_80_80.npz\n",
      "tmp/evals/eval_acw0___tr_ds_sn10_he50_canny0_0_blur3_noise80_keep80_size32_length10000_archa_bs65536_lr3000_ep100_L1100_L210000_wd90_dr30.npz\n",
      "tmp/real_dss/acw2.npz\n",
      "tmp/hes/acw2_50.npz\n",
      "tmp/real_dss/acw2_preproc_imgs_32_0_0_3_80_80.npz\n",
      "tmp/evals/eval_acw2___tr_ds_sn10_he50_canny0_0_blur3_noise80_keep80_size32_length10000_archa_bs65536_lr3000_ep100_L1100_L210000_wd90_dr30.npz\n",
      "tmp/real_dss/acw4.npz\n",
      "tmp/hes/acw4_50.npz\n",
      "tmp/real_dss/acw4_preproc_imgs_32_0_0_3_80_80.npz\n",
      "tmp/evals/eval_acw4___tr_ds_sn10_he50_canny0_0_blur3_noise80_keep80_size32_length10000_archa_bs65536_lr3000_ep100_L1100_L210000_wd90_dr30.npz\n",
      "tmp/real_dss/acw6.npz\n",
      "tmp/hes/acw6_50.npz\n",
      "tmp/real_dss/acw6_preproc_imgs_32_0_0_3_80_80.npz\n",
      "tmp/evals/eval_acw6___tr_ds_sn10_he50_canny0_0_blur3_noise80_keep80_size32_length10000_archa_bs65536_lr3000_ep100_L1100_L210000_wd90_dr30.npz\n",
      "tmp/real_dss/acw8.npz\n",
      "tmp/hes/acw8_50.npz\n",
      "tmp/real_dss/acw8_preproc_imgs_32_0_0_3_80_80.npz\n",
      "tmp/evals/eval_acw8___tr_ds_sn10_he50_canny0_0_blur3_noise80_keep80_size32_length10000_archa_bs65536_lr3000_ep100_L1100_L210000_wd90_dr30.npz\n",
      "tmp/real_dss/acw10.npz\n",
      "tmp/hes/acw10_50.npz\n",
      "tmp/real_dss/acw10_preproc_imgs_32_0_0_3_80_80.npz\n",
      "tmp/evals/eval_acw10___tr_ds_sn10_he50_canny0_0_blur3_noise80_keep80_size32_length10000_archa_bs65536_lr3000_ep100_L1100_L210000_wd90_dr30.npz\n",
      "tmp/real_dss/acw12.npz\n",
      "tmp/hes/acw12_50.npz\n",
      "tmp/real_dss/acw12_preproc_imgs_32_0_0_3_80_80.npz\n",
      "tmp/evals/eval_acw12___tr_ds_sn10_he50_canny0_0_blur3_noise80_keep80_size32_length10000_archa_bs65536_lr3000_ep100_L1100_L210000_wd90_dr30.npz\n",
      "tmp/real_dss/acw14.npz\n",
      "tmp/hes/acw14_50.npz\n",
      "tmp/real_dss/acw14_preproc_imgs_32_0_0_3_80_80.npz\n",
      "tmp/evals/eval_acw14___tr_ds_sn10_he50_canny0_0_blur3_noise80_keep80_size32_length10000_archa_bs65536_lr3000_ep100_L1100_L210000_wd90_dr30.npz\n",
      "tmp/real_dss/cw0.npz\n",
      "tmp/hes/cw0_50.npz\n",
      "tmp/real_dss/cw0_preproc_imgs_32_0_0_3_80_80.npz\n",
      "tmp/evals/eval_cw0___tr_ds_sn10_he50_canny0_0_blur3_noise80_keep80_size32_length10000_archa_bs65536_lr3000_ep100_L1100_L210000_wd90_dr30.npz\n",
      "tmp/real_dss/cw2.npz\n",
      "tmp/hes/cw2_50.npz\n",
      "tmp/real_dss/cw2_preproc_imgs_32_0_0_3_80_80.npz\n",
      "tmp/evals/eval_cw2___tr_ds_sn10_he50_canny0_0_blur3_noise80_keep80_size32_length10000_archa_bs65536_lr3000_ep100_L1100_L210000_wd90_dr30.npz\n",
      "tmp/real_dss/cw4.npz\n",
      "tmp/hes/cw4_50.npz\n",
      "tmp/real_dss/cw4_preproc_imgs_32_0_0_3_80_80.npz\n",
      "tmp/evals/eval_cw4___tr_ds_sn10_he50_canny0_0_blur3_noise80_keep80_size32_length10000_archa_bs65536_lr3000_ep100_L1100_L210000_wd90_dr30.npz\n",
      "tmp/real_dss/cw6.npz\n",
      "tmp/hes/cw6_50.npz\n",
      "tmp/real_dss/cw6_preproc_imgs_32_0_0_3_80_80.npz\n",
      "tmp/evals/eval_cw6___tr_ds_sn10_he50_canny0_0_blur3_noise80_keep80_size32_length10000_archa_bs65536_lr3000_ep100_L1100_L210000_wd90_dr30.npz\n",
      "tmp/real_dss/cw8.npz\n",
      "tmp/hes/cw8_50.npz\n",
      "tmp/real_dss/cw8_preproc_imgs_32_0_0_3_80_80.npz\n",
      "tmp/evals/eval_cw8___tr_ds_sn10_he50_canny0_0_blur3_noise80_keep80_size32_length10000_archa_bs65536_lr3000_ep100_L1100_L210000_wd90_dr30.npz\n",
      "tmp/real_dss/cw10.npz\n",
      "tmp/hes/cw10_50.npz\n",
      "tmp/real_dss/cw10_preproc_imgs_32_0_0_3_80_80.npz\n",
      "tmp/evals/eval_cw10___tr_ds_sn10_he50_canny0_0_blur3_noise80_keep80_size32_length10000_archa_bs65536_lr3000_ep100_L1100_L210000_wd90_dr30.npz\n",
      "tmp/real_dss/cw12.npz\n",
      "tmp/hes/cw12_50.npz\n",
      "tmp/real_dss/cw12_preproc_imgs_32_0_0_3_80_80.npz\n",
      "tmp/evals/eval_cw12___tr_ds_sn10_he50_canny0_0_blur3_noise80_keep80_size32_length10000_archa_bs65536_lr3000_ep100_L1100_L210000_wd90_dr30.npz\n",
      "tmp/real_dss/cw14.npz\n",
      "tmp/hes/cw14_50.npz\n",
      "tmp/real_dss/cw14_preproc_imgs_32_0_0_3_80_80.npz\n",
      "tmp/evals/eval_cw14___tr_ds_sn10_he50_canny0_0_blur3_noise80_keep80_size32_length10000_archa_bs65536_lr3000_ep100_L1100_L210000_wd90_dr30.npz\n",
      "tmp/evals/eval_acw0___tr_ds_sn10_he50_canny100_200_blur3_noise80_keep80_size32_length10000_archa_bs65536_lr3000_ep100_L1100_L210000_wd90_dr30.npz\n",
      "tmp/evals/eval_acw2___tr_ds_sn10_he50_canny100_200_blur3_noise80_keep80_size32_length10000_archa_bs65536_lr3000_ep100_L1100_L210000_wd90_dr30.npz\n",
      "tmp/evals/eval_acw4___tr_ds_sn10_he50_canny100_200_blur3_noise80_keep80_size32_length10000_archa_bs65536_lr3000_ep100_L1100_L210000_wd90_dr30.npz\n",
      "tmp/evals/eval_acw6___tr_ds_sn10_he50_canny100_200_blur3_noise80_keep80_size32_length10000_archa_bs65536_lr3000_ep100_L1100_L210000_wd90_dr30.npz\n",
      "tmp/evals/eval_acw8___tr_ds_sn10_he50_canny100_200_blur3_noise80_keep80_size32_length10000_archa_bs65536_lr3000_ep100_L1100_L210000_wd90_dr30.npz\n",
      "tmp/evals/eval_acw10___tr_ds_sn10_he50_canny100_200_blur3_noise80_keep80_size32_length10000_archa_bs65536_lr3000_ep100_L1100_L210000_wd90_dr30.npz\n",
      "tmp/evals/eval_acw12___tr_ds_sn10_he50_canny100_200_blur3_noise80_keep80_size32_length10000_archa_bs65536_lr3000_ep100_L1100_L210000_wd90_dr30.npz\n",
      "tmp/evals/eval_acw14___tr_ds_sn10_he50_canny100_200_blur3_noise80_keep80_size32_length10000_archa_bs65536_lr3000_ep100_L1100_L210000_wd90_dr30.npz\n",
      "tmp/evals/eval_cw0___tr_ds_sn10_he50_canny100_200_blur3_noise80_keep80_size32_length10000_archa_bs65536_lr3000_ep100_L1100_L210000_wd90_dr30.npz\n",
      "tmp/evals/eval_cw2___tr_ds_sn10_he50_canny100_200_blur3_noise80_keep80_size32_length10000_archa_bs65536_lr3000_ep100_L1100_L210000_wd90_dr30.npz\n",
      "tmp/evals/eval_cw4___tr_ds_sn10_he50_canny100_200_blur3_noise80_keep80_size32_length10000_archa_bs65536_lr3000_ep100_L1100_L210000_wd90_dr30.npz\n",
      "tmp/evals/eval_cw6___tr_ds_sn10_he50_canny100_200_blur3_noise80_keep80_size32_length10000_archa_bs65536_lr3000_ep100_L1100_L210000_wd90_dr30.npz\n",
      "tmp/evals/eval_cw8___tr_ds_sn10_he50_canny100_200_blur3_noise80_keep80_size32_length10000_archa_bs65536_lr3000_ep100_L1100_L210000_wd90_dr30.npz\n",
      "tmp/evals/eval_cw10___tr_ds_sn10_he50_canny100_200_blur3_noise80_keep80_size32_length10000_archa_bs65536_lr3000_ep100_L1100_L210000_wd90_dr30.npz\n",
      "tmp/evals/eval_cw12___tr_ds_sn10_he50_canny100_200_blur3_noise80_keep80_size32_length10000_archa_bs65536_lr3000_ep100_L1100_L210000_wd90_dr30.npz\n",
      "tmp/evals/eval_cw14___tr_ds_sn10_he50_canny100_200_blur3_noise80_keep80_size32_length10000_archa_bs65536_lr3000_ep100_L1100_L210000_wd90_dr30.npz\n"
     ]
    }
   ],
   "source": [
    "for name in all_names_used:\n",
    "    print(name)"
   ]
  },
  {
   "cell_type": "code",
   "execution_count": 24,
   "metadata": {},
   "outputs": [
    {
     "name": "stdout",
     "output_type": "stream",
     "text": [
      "number of files in hes2: 0\n"
     ]
    },
    {
     "ename": "FileNotFoundError",
     "evalue": "[Errno 2] No such file or directory: 'tmp/hes2/cw2_80.npz'",
     "output_type": "error",
     "traceback": [
      "\u001b[0;31m---------------------------------------------------------------------------\u001b[0m",
      "\u001b[0;31mFileNotFoundError\u001b[0m                         Traceback (most recent call last)",
      "\u001b[1;32m/home/irong/bfmc_2022/combination_trainer.ipynb Cell 28\u001b[0m in \u001b[0;36m<cell line: 12>\u001b[0;34m()\u001b[0m\n\u001b[1;32m     <a href='vscode-notebook-cell:/home/irong/bfmc_2022/combination_trainer.ipynb#X36sZmlsZQ%3D%3D?line=13'>14</a>\u001b[0m name \u001b[39m=\u001b[39m file\u001b[39m.\u001b[39msplit(\u001b[39m'\u001b[39m\u001b[39m/\u001b[39m\u001b[39m'\u001b[39m)[\u001b[39m-\u001b[39m\u001b[39m1\u001b[39m]\n\u001b[1;32m     <a href='vscode-notebook-cell:/home/irong/bfmc_2022/combination_trainer.ipynb#X36sZmlsZQ%3D%3D?line=14'>15</a>\u001b[0m npz1 \u001b[39m=\u001b[39m np\u001b[39m.\u001b[39mload(\u001b[39mf\u001b[39m\u001b[39m'\u001b[39m\u001b[39mtmp/hes/\u001b[39m\u001b[39m{\u001b[39;00mname\u001b[39m}\u001b[39;00m\u001b[39m'\u001b[39m, allow_pickle\u001b[39m=\u001b[39m\u001b[39mTrue\u001b[39;00m)\n\u001b[0;32m---> <a href='vscode-notebook-cell:/home/irong/bfmc_2022/combination_trainer.ipynb#X36sZmlsZQ%3D%3D?line=15'>16</a>\u001b[0m npz2 \u001b[39m=\u001b[39m np\u001b[39m.\u001b[39;49mload(\u001b[39mf\u001b[39;49m\u001b[39m'\u001b[39;49m\u001b[39mtmp/hes2/\u001b[39;49m\u001b[39m{\u001b[39;49;00mname\u001b[39m}\u001b[39;49;00m\u001b[39m'\u001b[39;49m, allow_pickle\u001b[39m=\u001b[39;49m\u001b[39mTrue\u001b[39;49;00m)\n\u001b[1;32m     <a href='vscode-notebook-cell:/home/irong/bfmc_2022/combination_trainer.ipynb#X36sZmlsZQ%3D%3D?line=17'>18</a>\u001b[0m hes2 \u001b[39m=\u001b[39m npz1[\u001b[39m'\u001b[39m\u001b[39mhes\u001b[39m\u001b[39m'\u001b[39m]\n\u001b[1;32m     <a href='vscode-notebook-cell:/home/irong/bfmc_2022/combination_trainer.ipynb#X36sZmlsZQ%3D%3D?line=18'>19</a>\u001b[0m hed2 \u001b[39m=\u001b[39m npz1[\u001b[39m'\u001b[39m\u001b[39mhe_distance\u001b[39m\u001b[39m'\u001b[39m]\n",
      "File \u001b[0;32m~/dlenv/lib/python3.8/site-packages/numpy/lib/npyio.py:390\u001b[0m, in \u001b[0;36mload\u001b[0;34m(file, mmap_mode, allow_pickle, fix_imports, encoding)\u001b[0m\n\u001b[1;32m    388\u001b[0m     own_fid \u001b[39m=\u001b[39m \u001b[39mFalse\u001b[39;00m\n\u001b[1;32m    389\u001b[0m \u001b[39melse\u001b[39;00m:\n\u001b[0;32m--> 390\u001b[0m     fid \u001b[39m=\u001b[39m stack\u001b[39m.\u001b[39menter_context(\u001b[39mopen\u001b[39;49m(os_fspath(file), \u001b[39m\"\u001b[39;49m\u001b[39mrb\u001b[39;49m\u001b[39m\"\u001b[39;49m))\n\u001b[1;32m    391\u001b[0m     own_fid \u001b[39m=\u001b[39m \u001b[39mTrue\u001b[39;00m\n\u001b[1;32m    393\u001b[0m \u001b[39m# Code to distinguish from NumPy binary files and pickles.\u001b[39;00m\n",
      "\u001b[0;31mFileNotFoundError\u001b[0m: [Errno 2] No such file or directory: 'tmp/hes2/cw2_80.npz'"
     ]
    }
   ],
   "source": [
    "#read all file names in tmp/hes2\n",
    "import os\n",
    "import glob\n",
    "import shutil\n",
    "import numpy as np\n",
    "\n",
    "#read all file names in tmp/hes2\n",
    "hes2_files = glob.glob('tmp/hes2/*')\n",
    "hes_files = glob.glob('tmp/hes/*')\n",
    "print(f'number of files in hes2: {len(hes2_files)}')\n",
    "\n",
    "for file in hes_files:\n",
    "    #remove folder section from the name\n",
    "    name = file.split('/')[-1]\n",
    "    npz1 = np.load(f'tmp/hes/{name}', allow_pickle=True)\n",
    "    npz2 = np.load(f'tmp/hes2/{name}', allow_pickle=True)\n",
    "    \n",
    "    hes2 = npz1['hes']\n",
    "    hed2 = npz1['he_distance']\n",
    "    hes = npz2['hes']\n",
    "    hed = npz2['he_distance']\n",
    "    assert np.all(hes == hes2)\n",
    "    assert hed2 == hed\n",
    "    print(f'{name} -> ok')\n",
    "\n",
    "#read all file names in tmp/real_dss2\n",
    "real_dss2_files = glob.glob('tmp/real_dss2/*')\n",
    "real_dss_files = glob.glob('tmp/real_dss/*')\n",
    "print(f'number of files in real_dss2: {len(real_dss2_files)}')\n",
    "\n",
    "for file in real_dss_files:\n",
    "    #remove folder section from the name\n",
    "    name = file.split('/')[-1]\n",
    "    npz1 = np.load(f'tmp/real_dss/{name}', allow_pickle=True)\n",
    "    npz2 = np.load(f'tmp/real_dss2/{name}', allow_pickle=True)\n",
    "    \n",
    "    imgs2 = npz1['imgs']\n",
    "    # locs2 = npz1['locs']\n",
    "    imgs = npz2['imgs']\n",
    "    # locs = npz2['locs']\n",
    "\n",
    "    assert np.all(imgs == imgs2)\n",
    "    # assert np.all(imgs == imgs2)\n",
    "    # assert np.all(locs == locs2)\n",
    "    print(f'{name} -> ok')\n"
   ]
  },
  {
   "cell_type": "code",
   "execution_count": null,
   "metadata": {},
   "outputs": [],
   "source": [
    "raise SystemExit"
   ]
  },
  {
   "cell_type": "code",
   "execution_count": null,
   "metadata": {},
   "outputs": [],
   "source": [
    "# !!! CLEARING DATA !!!\n",
    "import shutil\n",
    "import os\n",
    "folders = ['dss', 'evals', 'hes', 'models', 'real_dss', 'to_del', 'training_combinations']\n",
    "folders = ['to_del']\n",
    "for folder in folders:\n",
    "    folder_path = f'tmp/{folder}'\n",
    "    shutil.rmtree(folder_path)\n",
    "    os.mkdir(folder_path)"
   ]
  },
  {
   "cell_type": "code",
   "execution_count": null,
   "metadata": {},
   "outputs": [],
   "source": [
    "raise SystemExit"
   ]
  },
  {
   "cell_type": "code",
   "execution_count": null,
   "metadata": {},
   "outputs": [],
   "source": [
    "# testN = HEstimator()\n",
    "# a = np.array([1,2,3,4,5,6,7,8,9,10])\n",
    "# print(testN)\n",
    "# print(a)\n",
    "# np.savez('testN', testN=testN, a=a)\n",
    "import numpy as np\n",
    "loadedN = np.load('testN.npz', allow_pickle=True)['testN']\n",
    "loadeda = np.load('testN.npz', allow_pickle=True)['a']\n",
    "print(loadedN)\n",
    "print(loadeda)"
   ]
  },
  {
   "cell_type": "code",
   "execution_count": null,
   "metadata": {},
   "outputs": [],
   "source": [
    "lane_keeper_ahead = HEstimator()\n",
    "lane_keeper_ahead.to(device)\n",
    "\n",
    "name_dataset = 'big_ds_a_80' #'saved_tests/train18' #'saved_tests/sim_dataset0'\n",
    "#create dataset #takes a long time but then training is faster\n",
    "train_dataset = MyDataset(name_dataset, device=device)\n",
    "\n",
    "#split dataset into train and val\n",
    "train_size = int(0.9*len(train_dataset))\n",
    "val_size = len(train_dataset) - train_size\n",
    "train_dataset, val_dataset = torch.utils.data.random_split(train_dataset, [train_size, val_size])\n",
    "\n",
    "# DATALOADERS\n",
    "train_dataloader = DataLoader(train_dataset, batch_size=8*8192, shuffle=True)\n",
    "val_dataloader = DataLoader(val_dataset, batch_size=8192, shuffle=False)"
   ]
  },
  {
   "cell_type": "code",
   "execution_count": null,
   "metadata": {},
   "outputs": [],
   "source": [
    "# TRAINING \n",
    "#parameters\n",
    "lr = 0.003 #0.005\n",
    "epochs = 100 #500\n",
    "#regularization is applied only to convolutional section, add weight decay to apply it to all layers\n",
    "L1_lambda = 1e-4 #9e-4\n",
    "L2_lambda = 1e-2 #1e-2\n",
    "optimizer = torch.optim.Adam(lane_keeper_ahead.parameters(), lr=lr, weight_decay=9e-5) #wd = 2e-3# 3e-5\n",
    "regr_loss_fn1 = nn.MSELoss() #before epochs/2\n",
    "regr_loss_fn2 = nn.MSELoss() #after epochs/2 for finetuning\n",
    "\n",
    "best_val = 100\n",
    "best_epoch = 0\n",
    "\n",
    "for epoch in range(epochs):\n",
    "    # try:\n",
    "    if True:\n",
    "        regr_loss_fn = regr_loss_fn1 if epoch < epochs//2 else regr_loss_fn2\n",
    "        he_loss = train_epoch(lane_keeper_ahead, train_dataloader, regr_loss_fn, optimizer, L1_lambda, L2_lambda)\n",
    "        val_he_loss = val_epoch(lane_keeper_ahead, val_dataloader, regr_loss_fn)\n",
    "        clear_output(wait=False)\n",
    "    # except Exception as e:\n",
    "    #     print(e)\n",
    "    #     torch.cuda.empty_cache()\n",
    "    #     continue\n",
    "    if val_he_loss < best_val:\n",
    "        best_val = val_he_loss\n",
    "        best_epoch = epoch\n",
    "        torch.save(lane_keeper_ahead.state_dict(), model_name)\n",
    "        print(\"model saved\")\n",
    "    \n",
    "    print(f\"Epoch  {epoch+1}/{epochs},  loss = {regr_loss_fn} \\nhe_loss: {he_loss:.4f},   Val: {val_he_loss:.4f}, best_val: {best_val:.4f}, best_epoch: {best_epoch}\")\n",
    "    # print(f\"lat_err_loss2: {err_loss2:.4f},   Val: {val_loss2:.4f}\")\n",
    "    # print(f\"curv_loss: {curv_loss}\")\n",
    "\n",
    "#Note: sweet spot for training is around 0.016 -> 0.020, also note that training can get stuck, and loss can start improving randomly"
   ]
  },
  {
   "cell_type": "code",
   "execution_count": null,
   "metadata": {},
   "outputs": [],
   "source": [
    "# EVALUATE ON TEST SET (UNSEEN DATA)\n",
    "lane_keeper_ahead.load_state_dict(torch.load(model_name))\n",
    "he_loss = val_epoch(lane_keeper_ahead, val_dataloader, regr_loss_fn)\n",
    "\n",
    "# print(f\"lateral_err2_loss: {err_loss2}\")\n",
    "print(f\"he loss: {he_loss}\")"
   ]
  },
  {
   "cell_type": "code",
   "execution_count": null,
   "metadata": {},
   "outputs": [],
   "source": [
    "# VISUALIZE CONVOLUTIONAL FILTERS\n",
    "conv_layers = []\n",
    "children = list(lane_keeper_ahead.children())\n",
    "for i in range(len(children)):\n",
    "    if isinstance(children[i], nn.Conv2d):\n",
    "        conv_layers.append(children[i])\n",
    "    elif isinstance(children[i], nn.Sequential):\n",
    "        for child in children[i].children():\n",
    "            if isinstance(child, nn.Conv2d):\n",
    "                conv_layers.append(child)\n",
    "\n",
    "c0 = conv_layers[0].weight.data.cpu().numpy()\n",
    "c1 = conv_layers[1].weight.data.cpu().numpy()\n",
    "c2 = conv_layers[2].weight.data.cpu().numpy()\n",
    "\n",
    "def plot_nchw_data(data, h_num, v_num, title, size=(10, 10)):\n",
    "    fig, axs = plt.subplots(h_num, v_num, figsize=size)\n",
    "    shape = data.shape\n",
    "    data = data.reshape(shape[0]*shape[1], shape[2], shape[3])\n",
    "    for idx, ax in enumerate(axs.flatten()):\n",
    "        ax.set_xticks([])\n",
    "        ax.set_yticks([])\n",
    "        if idx < len(data):\n",
    "            ax.imshow(data[idx,:,:], cmap='gray')\n",
    "    plt.suptitle(title)\n",
    "    #plt.tight_layout(rect=[0, 0, 1, 0.97], h_pad=0, w_pad=0)\n",
    "    plt.show()\n",
    "    return fig\n",
    "\n",
    "# fig0 = plot_nchw_data(c0, 4, 4, 'conv0')\n",
    "print(c0.shape)\n",
    "print(c1.shape)\n",
    "print(c2.shape)\n",
    "\n",
    "fig0 = plot_nchw_data(c0, 1, 4, 'conv0', size=(8,2))\n",
    "\n",
    "fig1 = plot_nchw_data(c1, 4, 4, 'conv1', size=(5,5)) \n",
    "\n",
    "fig2 = plot_nchw_data(c2, 8, 8, 'conv2', size=(10,10))\n",
    "\n"
   ]
  },
  {
   "cell_type": "code",
   "execution_count": null,
   "metadata": {},
   "outputs": [],
   "source": [
    "# CONVERT TO ONNX MODEL FOR OPENCV\n",
    "lane_keeper_ahead.load_state_dict(torch.load(model_name))\n",
    "\n",
    "#save the model so that opencv can load it\n",
    "import torch\n",
    "import torch.onnx\n",
    "import torchvision\n",
    "import torchvision.models as models\n",
    "\n",
    "device = torch.device('cpu')\n",
    "lane_keeper_ahead.to(device)\n",
    "\n",
    "# set the model to inference mode\n",
    "lane_keeper_ahead.eval()\n",
    "\n",
    "# Create some sample input in the shape this model expects \n",
    "# This is needed because the convertion forward pass the network once \n",
    "dummy_input = torch.randn(1, 1, 32, 32)\n",
    "torch.onnx.export(lane_keeper_ahead, dummy_input, onnx_lane_keeper_path, verbose=True)\n",
    "\n",
    "clear_output(wait=False)\n",
    "\n",
    "device = torch.device(\"cuda:0\" if torch.cuda.is_available() else \"cpu\")\n",
    "lane_keeper_ahead.to(device)"
   ]
  }
 ],
 "metadata": {
  "kernelspec": {
   "display_name": "Python 3.8.10 ('dlenv')",
   "language": "python",
   "name": "python3"
  },
  "language_info": {
   "codemirror_mode": {
    "name": "ipython",
    "version": 3
   },
   "file_extension": ".py",
   "mimetype": "text/x-python",
   "name": "python",
   "nbconvert_exporter": "python",
   "pygments_lexer": "ipython3",
   "version": "3.8.10"
  },
  "orig_nbformat": 4,
  "vscode": {
   "interpreter": {
    "hash": "5ff087476d859467207b75b86d772837aefc8c57842a4549d55b8593c8b8ca04"
   }
  }
 },
 "nbformat": 4,
 "nbformat_minor": 2
}
