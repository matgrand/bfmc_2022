{
 "cells": [
  {
   "cell_type": "code",
   "execution_count": 37,
   "metadata": {},
   "outputs": [],
   "source": [
    "import os, signal, rospy\n",
    "import cv2 as cv\n",
    "import numpy as np\n",
    "import matplotlib.pyplot as plt\n",
    "from collections import deque\n",
    "from time import sleep, time\n",
    "from shutil import get_terminal_size\n",
    "from Simulator.src.automobile_data_simulator import AutomobileDataSimulator\n",
    "from Simulator.src.helper_functions import *\n",
    "from path_nn_controller import PathPlanning, Controller, Detection"
   ]
  },
  {
   "cell_type": "code",
   "execution_count": 38,
   "metadata": {},
   "outputs": [],
   "source": [
    "LAPS = 3\n",
    "imgs = []\n",
    "locs = []"
   ]
  },
  {
   "cell_type": "code",
   "execution_count": 39,
   "metadata": {},
   "outputs": [
    {
     "name": "stderr",
     "output_type": "stream",
     "text": [
      "Exception in thread Thread-39:\n",
      "Traceback (most recent call last):\n",
      "  File \"/usr/lib/python3.8/threading.py\", line 932, in _bootstrap_inner\n",
      "Exception in thread Thread-40:\n",
      "Traceback (most recent call last):\n",
      "  File \"/usr/lib/python3.8/threading.py\", line 932, in _bootstrap_inner\n",
      "Exception in thread Thread-41:\n",
      "Traceback (most recent call last):\n",
      "  File \"/usr/lib/python3.8/threading.py\", line 932, in _bootstrap_inner\n",
      "    self.run()\n",
      "  File \"/opt/ros/noetic/lib/python3/dist-packages/rospy/timer.py\", line 228, in run\n",
      "    self.run()\n",
      "  File \"/opt/ros/noetic/lib/python3/dist-packages/rospy/timer.py\", line 228, in run\n",
      "    self.run()\n",
      "  File \"/opt/ros/noetic/lib/python3/dist-packages/rospy/timer.py\", line 228, in run\n",
      "    r.sleep()\n",
      "  File \"/opt/ros/noetic/lib/python3/dist-packages/rospy/timer.py\", line 103, in sleep\n",
      "    r.sleep()\n",
      "  File \"/opt/ros/noetic/lib/python3/dist-packages/rospy/timer.py\", line 103, in sleep\n",
      "    r.sleep()\n",
      "  File \"/opt/ros/noetic/lib/python3/dist-packages/rospy/timer.py\", line 103, in sleep\n",
      "    sleep(self._remaining(curr_time))\n",
      "  File \"/opt/ros/noetic/lib/python3/dist-packages/rospy/timer.py\", line 163, in sleep\n",
      "    sleep(self._remaining(curr_time))\n",
      "  File \"/opt/ros/noetic/lib/python3/dist-packages/rospy/timer.py\", line 163, in sleep\n",
      "    sleep(self._remaining(curr_time))\n",
      "  File \"/opt/ros/noetic/lib/python3/dist-packages/rospy/timer.py\", line 163, in sleep\n",
      "    raise rospy.exceptions.ROSTimeMovedBackwardsException(time_jump)\n",
      "rospy.exceptions.ROSTimeMovedBackwardsException: ROS time moved backwards\n",
      "    raise rospy.exceptions.ROSTimeMovedBackwardsException(time_jump)\n",
      "rospy.exceptions.ROSTimeMovedBackwardsException: ROS time moved backwards\n",
      "    raise rospy.exceptions.ROSTimeMovedBackwardsException(time_jump)\n",
      "rospy.exceptions.ROSTimeMovedBackwardsException: ROS time moved backwards\n"
     ]
    },
    {
     "name": "stdout",
     "output_type": "stream",
     "text": [
      "\n"
     ]
    }
   ],
   "source": [
    "REVERSED_PATH = False #if True the path is Anti-clockwise\n",
    "STEER_NOISE_STD = np.deg2rad(0.0) # [rad] noise in the steering angle\n",
    "STEER_FRAME_CHAMGE_MEAN = 10 #avg frames after which the steering noise is changed\n",
    "STEER_FRAME_CHAMGE_STD = 8 #frames max \"deviation\"\n",
    "CONTROLLER_DIST_AHEAD = .35 #pure pursuit controller distance ahead\n",
    "DESIRED_SPEED = 1.5# [m/s]\n",
    "TARGET_FPS = 30.0\n",
    "\n",
    "#initializations\n",
    "os.system('rosservice call /gazebo/reset_simulation') \n",
    "CAR = AutomobileDataSimulator(trig_cam=True, trig_gps=True, trig_bno=True, \n",
    "                               trig_enc=True, trig_control=True, trig_estimation=False, trig_sonar=False)\n",
    "\n",
    "CONTROLLER = Controller(1.0)\n",
    "\n",
    "STEER_NOISE = MyRandomGenerator(0.0, STEER_NOISE_STD, STEER_FRAME_CHAMGE_MEAN, STEER_FRAME_CHAMGE_STD)\n",
    "SPEED_NOISE_STD = 0.0  #[m/s] noise in the speed\n",
    "SPEED_FRAME_CHAMGE_MEAN = 30 #avg frames after which the speed noise is changed\n",
    "SPEED_FRAME_CHAMGE_STD = 20 #frames max \"deviation\"\n",
    "SPEED_NOISE = MyRandomGenerator(-SPEED_NOISE_STD, SPEED_NOISE_STD, SPEED_FRAME_CHAMGE_MEAN, SPEED_FRAME_CHAMGE_STD, np.random.uniform)\n",
    "\n",
    "sleep(0.8)\n",
    "\n",
    "LAP_Y_TRSH = 2.54 + 2.5"
   ]
  },
  {
   "cell_type": "code",
   "execution_count": 40,
   "metadata": {},
   "outputs": [
    {
     "name": "stdout",
     "output_type": "stream",
     "text": [
      "Stopping y: 5.05, yaw: -90.00, fps: 232.82, lap: 3/33\n"
     ]
    }
   ],
   "source": [
    "path = np.load('sparcs/sparcs_path_precise.npy').T # load path from file\n",
    "#add 2 to all x\n",
    "path[:,0] += 2.5\n",
    "path[:,1] += 2.5\n",
    "\n",
    "cv.namedWindow('frame', cv.WINDOW_NORMAL)\n",
    "\n",
    "#lap logic\n",
    "lap = 0\n",
    "prev_y = CAR.y_true\n",
    "\n",
    "while not rospy.is_shutdown():\n",
    "    loop_start = time()\n",
    "\n",
    "    x, y, yaw = CAR.x_true, CAR.y_true, CAR.yaw\n",
    "    frame = CAR.frame\n",
    "\n",
    "    locs.append(np.array([x, y, yaw]))\n",
    "\n",
    "    tmp_frame = frame.copy()\n",
    "    \n",
    "    frame = cv.cvtColor(frame, cv.COLOR_BGR2GRAY)\n",
    "    frame = cv.resize(frame, (320, 240), interpolation=cv.INTER_AREA)\n",
    "    imgs.append(frame)\n",
    "\n",
    "    #heading error\n",
    "    he, pa, d = get_heading_error(x,y,yaw,path,CONTROLLER_DIST_AHEAD)\n",
    "\n",
    "    #calculate control\n",
    "    steer_angle = CONTROLLER.get_control(he, CONTROLLER_DIST_AHEAD)\n",
    "    steer_angle = steer_angle + STEER_NOISE.get_noise()\n",
    "\n",
    "    #move car\n",
    "    CAR.drive(speed=DESIRED_SPEED, angle=np.rad2deg(steer_angle))\n",
    "\n",
    "    cv.imshow('frame', tmp_frame)\n",
    "    if cv.waitKey(1) == 27:\n",
    "        CAR.stop()\n",
    "        break\n",
    "\n",
    "    #laps\n",
    "    curr_y = y\n",
    "    if (prev_y > LAP_Y_TRSH and curr_y < LAP_Y_TRSH and not REVERSED_PATH) or (prev_y < LAP_Y_TRSH and curr_y > LAP_Y_TRSH and REVERSED_PATH): #count lap\n",
    "        lap+=1\n",
    "        if lap>=LAPS:\n",
    "            # saving locations\n",
    "            #stop the car\n",
    "            print('Stopping')\n",
    "            CAR.stop()\n",
    "            break\n",
    "    prev_y = curr_y\n",
    "\n",
    "\n",
    "\n",
    "    #calculate fps\n",
    "    loop_time = time() - loop_start\n",
    "    fps = 1.0 / loop_time\n",
    "\n",
    "    print(f'x: {x:.2f}, y: {y:.2f}, yaw: {np.rad2deg(yaw):.2f}, fps: {fps:.2f}, lap: {lap+1}/{LAPS}', end='\\r')\n",
    "\n",
    "    if loop_time < 1/TARGET_FPS:\n",
    "        sleep(1/TARGET_FPS - loop_time)\n",
    "\n",
    "cv.destroyAllWindows()\n"
   ]
  }
 ],
 "metadata": {
  "kernelspec": {
   "display_name": "Python 3.8.10 64-bit",
   "language": "python",
   "name": "python3"
  },
  "language_info": {
   "codemirror_mode": {
    "name": "ipython",
    "version": 3
   },
   "file_extension": ".py",
   "mimetype": "text/x-python",
   "name": "python",
   "nbconvert_exporter": "python",
   "pygments_lexer": "ipython3",
   "version": "3.8.10"
  },
  "orig_nbformat": 4,
  "vscode": {
   "interpreter": {
    "hash": "916dbcbb3f70747c44a77c7bcd40155683ae19c65e1c03b4aa3499c5328201f1"
   }
  }
 },
 "nbformat": 4,
 "nbformat_minor": 2
}
