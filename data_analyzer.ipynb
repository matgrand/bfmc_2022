{
 "cells": [
  {
   "cell_type": "code",
   "execution_count": 1,
   "metadata": {},
   "outputs": [],
   "source": [
    "# FILENAMES real recording in sparcs\n",
    "names = [\n",
    "    'ACW50_0_0',\n",
    "    'ACW50_0_5',\n",
    "    'ACW50_0_10',\n",
    "    'ACW50_0_15',\n",
    "    'ACW50_30_0',\n",
    "    'ACW50_30_5',\n",
    "    'ACW50_30_10',\n",
    "    'ACW50_30_15',\n",
    "    'CW50_0_0',\n",
    "    'CW50_0_5',\n",
    "    'CW50_0_10',\n",
    "    'CW50_0_15',\n",
    "    'CW50_30_0',\n",
    "    'CW50_30_5',\n",
    "    'CW50_30_10',\n",
    "    'CW50_30_15'\n",
    "]\n",
    "\n",
    "#NOTES: \n",
    "# -CW50_0_0 is only one lap"
   ]
  },
  {
   "cell_type": "code",
   "execution_count": 2,
   "metadata": {},
   "outputs": [
    {
     "name": "stdout",
     "output_type": "stream",
     "text": [
      "ACW50_0_0\n",
      "frames: 1436\n",
      " \n",
      "ACW50_0_5\n",
      "frames: 1449\n",
      " \n",
      "ACW50_0_10\n",
      "frames: 1450\n",
      " \n",
      "ACW50_0_15\n",
      "frames: 1527\n",
      " \n",
      "ACW50_30_0\n",
      "frames: 1465\n",
      " \n",
      "ACW50_30_5\n",
      "frames: 1483\n",
      " \n",
      "ACW50_30_10\n",
      "frames: 1439\n"
     ]
    },
    {
     "ename": "KeyboardInterrupt",
     "evalue": "",
     "output_type": "error",
     "traceback": [
      "\u001b[0;31m---------------------------------------------------------------------------\u001b[0m",
      "\u001b[0;31mKeyboardInterrupt\u001b[0m                         Traceback (most recent call last)",
      "\u001b[1;32m/home/irong/bfmc_2022/sparcs/data_analyzer.ipynb Cell 2\u001b[0m in \u001b[0;36m<cell line: 8>\u001b[0;34m()\u001b[0m\n\u001b[1;32m     <a href='vscode-notebook-cell:/home/irong/bfmc_2022/sparcs/data_analyzer.ipynb#W0sZmlsZQ%3D%3D?line=41'>42</a>\u001b[0m img \u001b[39m=\u001b[39m draw_angle(img, he)\n\u001b[1;32m     <a href='vscode-notebook-cell:/home/irong/bfmc_2022/sparcs/data_analyzer.ipynb#W0sZmlsZQ%3D%3D?line=43'>44</a>\u001b[0m cv\u001b[39m.\u001b[39mimshow(name, img)\n\u001b[0;32m---> <a href='vscode-notebook-cell:/home/irong/bfmc_2022/sparcs/data_analyzer.ipynb#W0sZmlsZQ%3D%3D?line=44'>45</a>\u001b[0m k \u001b[39m=\u001b[39m cv\u001b[39m.\u001b[39;49mwaitKey(\u001b[39m1\u001b[39;49m)\n\u001b[1;32m     <a href='vscode-notebook-cell:/home/irong/bfmc_2022/sparcs/data_analyzer.ipynb#W0sZmlsZQ%3D%3D?line=45'>46</a>\u001b[0m \u001b[39mif\u001b[39;00m k \u001b[39m==\u001b[39m \u001b[39m27\u001b[39m:\n\u001b[1;32m     <a href='vscode-notebook-cell:/home/irong/bfmc_2022/sparcs/data_analyzer.ipynb#W0sZmlsZQ%3D%3D?line=46'>47</a>\u001b[0m     \u001b[39mbreak\u001b[39;00m\n",
      "\u001b[0;31mKeyboardInterrupt\u001b[0m: "
     ]
    }
   ],
   "source": [
    "import numpy as np\n",
    "import cv2 as cv\n",
    "from helper_functions import *\n",
    "from time import time, sleep\n",
    "DIST_AHEAD = 0.5\n",
    "\n",
    "\n",
    "for name in names:\n",
    "    print(name)\n",
    "    log = np.load('saved_tests/'+name+'.npz')\n",
    "    imgs, locs = log['imgs'],log['locs']\n",
    "    path = np.load('sparcs_path.npy').T\n",
    "    print('frames:',imgs.shape[0])\n",
    "\n",
    "    #check if name starts with CW or ACW\n",
    "    if name[:3] == 'ACW':\n",
    "        path = np.flip(path, axis = 0) #if reversed/anti-clockwise\n",
    "\n",
    "    # print(f'imgs.shape = {imgs.shape}')\n",
    "    # print(f'locs.shape = {locs.shape}')\n",
    "\n",
    "    cv.namedWindow(name, cv.WINDOW_NORMAL)\n",
    "    cv.resizeWindow(name, 640, 480)\n",
    "\n",
    "    for img, loc in zip(imgs, locs):\n",
    "        x = loc[0]\n",
    "        y = loc[1]\n",
    "        yaw = loc[2]\n",
    "        #convert image to color\n",
    "        img = cv.cvtColor(img, cv.COLOR_GRAY2BGR)\n",
    "\n",
    "        he = get_heading_error(x,y,yaw,path, DIST_AHEAD)\n",
    "\n",
    "        img = draw_angle(img, he)\n",
    "\n",
    "        cv.imshow(name, img)\n",
    "        k = cv.waitKey(1)\n",
    "        if k == 27:\n",
    "            break\n",
    "        sleep(0.008)\n",
    "    cv.destroyAllWindows()\n",
    "    print(' ')\n",
    "\n",
    "\n"
   ]
  }
 ],
 "metadata": {
  "kernelspec": {
   "display_name": "Python 3.8.10 64-bit",
   "language": "python",
   "name": "python3"
  },
  "language_info": {
   "codemirror_mode": {
    "name": "ipython",
    "version": 3
   },
   "file_extension": ".py",
   "mimetype": "text/x-python",
   "name": "python",
   "nbconvert_exporter": "python",
   "pygments_lexer": "ipython3",
   "version": "3.8.10"
  },
  "orig_nbformat": 4,
  "vscode": {
   "interpreter": {
    "hash": "916dbcbb3f70747c44a77c7bcd40155683ae19c65e1c03b4aa3499c5328201f1"
   }
  }
 },
 "nbformat": 4,
 "nbformat_minor": 2
}
